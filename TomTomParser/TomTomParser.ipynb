{
 "cells": [
  {
   "cell_type": "code",
   "execution_count": 68,
   "metadata": {},
   "outputs": [],
   "source": [
    "import requests \n",
    "import json\n",
    "from pandas import DataFrame\n",
    "import pandas as pd\n"
   ]
  },
  {
   "cell_type": "markdown",
   "metadata": {},
   "source": [
    "#### -----------------------------------------------------------------------------\n",
    "\n",
    "\n",
    "## TOM TOM Parser\n",
    "\n",
    "#### input file name : InputKeyword.json\n",
    "#### output file name : ( keyword )_tomtom.json\n",
    "\n",
    "###### input file과 output file과 Jar가 동일한 위치에 존재해야함.\n",
    "\n",
    "#### -----------------------------------------------------------------------------\n"
   ]
  },
  {
   "cell_type": "code",
   "execution_count": 31,
   "metadata": {},
   "outputs": [
    {
     "data": {
      "text/plain": [
       "0"
      ]
     },
     "execution_count": 31,
     "metadata": {},
     "output_type": "execute_result"
    }
   ],
   "source": [
    "import os\n",
    "\n",
    "# [Set] Base Path \n",
    "input_path = os.getcwd()\n",
    "\n",
    "# [Make] Command Query\n",
    "cmd = 'java -jar '+input_path+'\\\\TomTomPaser.jar '+input_path\n",
    "\n",
    "# [Execute] Command\n",
    "os.system(cmd)"
   ]
  },
  {
   "cell_type": "markdown",
   "metadata": {},
   "source": [
    "#### -----------------------------------------------------------------------------\n",
    "\n",
    "\n",
    "## FILE READ\n",
    "\n",
    "#### input file name : ( keyword )_tomtom.json\n",
    "\n",
    "#### -----------------------------------------------------------------------------\n"
   ]
  },
  {
   "cell_type": "code",
   "execution_count": 15,
   "metadata": {},
   "outputs": [
    {
     "name": "stdout",
     "output_type": "stream",
     "text": [
      "file_list_py: ['.\\\\coffee_tomtom.json', '.\\\\co_tomtom.json', '.\\\\pizza_tomtom.json']\n"
     ]
    }
   ],
   "source": [
    "import glob\n",
    "\n",
    "path = \"./*\"\n",
    "file_list = glob.glob(path)\n",
    "file_list_py = [file for file in file_list if file.endswith(\"_tomtom.json\")]\n"
   ]
  },
  {
   "cell_type": "markdown",
   "metadata": {},
   "source": [
    "#### -----------------------------------------------------------------------------\n",
    "\n",
    "\n",
    "## Make DataFrame & Excel File\n",
    "\n",
    "#### output file name : tomtom_data.xlsx\n",
    "\n",
    "#### -----------------------------------------------------------------------------\n"
   ]
  },
  {
   "cell_type": "code",
   "execution_count": 95,
   "metadata": {},
   "outputs": [],
   "source": [
    "dp = DataFrame();\n",
    "\n",
    "for fileIdx in range(0, len(file_list_py)) : \n",
    "    \n",
    "    test_data=open(file_list_py[fileIdx]).read()\n",
    "    json_data = json.loads(test_data)\n",
    "    \n",
    "    for objIdx in range(0, len(json_data)) :\n",
    "        tempDP = DataFrame(json_data[objIdx])\n",
    "        tempDP[\"keyword\"] = file_list_py[fileIdx] ;\n",
    "        dp = pd.concat([dp , tempDP] , axis = 0)\n",
    "\n",
    "        \n",
    "dp.to_excel('tomtom_data.xlsx' , sheet_name='TomTom')"
   ]
  },
  {
   "cell_type": "code",
   "execution_count": null,
   "metadata": {},
   "outputs": [],
   "source": []
  }
 ],
 "metadata": {
  "kernelspec": {
   "display_name": "Python 3",
   "language": "python",
   "name": "python3"
  },
  "language_info": {
   "codemirror_mode": {
    "name": "ipython",
    "version": 3
   },
   "file_extension": ".py",
   "mimetype": "text/x-python",
   "name": "python",
   "nbconvert_exporter": "python",
   "pygments_lexer": "ipython3",
   "version": "3.7.4"
  }
 },
 "nbformat": 4,
 "nbformat_minor": 2
}
